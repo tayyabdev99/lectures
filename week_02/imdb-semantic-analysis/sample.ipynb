{
 "cells": [
  {
   "cell_type": "code",
   "execution_count": 16,
   "id": "fd53ed5c",
   "metadata": {},
   "outputs": [
    {
     "name": "stderr",
     "output_type": "stream",
     "text": [
      "[nltk_data] Downloading package stopwords to\n",
      "[nltk_data]     /Users/tayyab/nltk_data...\n",
      "[nltk_data]   Package stopwords is already up-to-date!\n",
      "[nltk_data] Downloading package punkt to /Users/tayyab/nltk_data...\n",
      "[nltk_data]   Package punkt is already up-to-date!\n",
      "[nltk_data] Downloading package punkt_tab to\n",
      "[nltk_data]     /Users/tayyab/nltk_data...\n",
      "[nltk_data]   Package punkt_tab is already up-to-date!\n"
     ]
    },
    {
     "data": {
      "text/plain": [
       "True"
      ]
     },
     "execution_count": 16,
     "metadata": {},
     "output_type": "execute_result"
    }
   ],
   "source": [
    "import nltk\n",
    "nltk.download('stopwords')\n",
    "nltk.download('punkt')\n",
    "nltk.download('punkt_tab')"
   ]
  },
  {
   "cell_type": "code",
   "execution_count": 17,
   "id": "59dccdd5",
   "metadata": {},
   "outputs": [],
   "source": [
    "import pandas as pd\n",
    "import re # for regular expressions\n",
    "from nltk.corpus import stopwords\n",
    "from nltk.tokenize import word_tokenize"
   ]
  },
  {
   "cell_type": "code",
   "execution_count": 18,
   "id": "375387cf",
   "metadata": {},
   "outputs": [
    {
     "name": "stdout",
     "output_type": "stream",
     "text": [
      "Collecting en-core-web-sm==3.8.0\n",
      "  Downloading https://github.com/explosion/spacy-models/releases/download/en_core_web_sm-3.8.0/en_core_web_sm-3.8.0-py3-none-any.whl (12.8 MB)\n",
      "\u001b[2K     \u001b[91m━━━\u001b[0m\u001b[91m╸\u001b[0m\u001b[90m━━━━━━━━━━━━━━━━━━━━━━━━━━━━━━━━━━━━\u001b[0m \u001b[32m1.2/12.8 MB\u001b[0m \u001b[31m6.4 MB/s\u001b[0m eta \u001b[36m0:00:02\u001b[0m  Downloading https://github.com/explosion/spacy-models/releases/download/en_core_web_sm-3.8.0/en_core_web_sm-3.8.0-py3-none-any.whl (12.8 MB)\n",
      "\u001b[2K     \u001b[90m━━━━━━━━━━━━━━━━━━━━━━━━━━━━━━━━━━━━━━━━\u001b[0m \u001b[32m12.8/12.8 MB\u001b[0m \u001b[31m13.8 MB/s\u001b[0m eta \u001b[36m0:00:00\u001b[0m00:01\u001b[0m00:01\u001b[0m\n",
      "\u001b[2K     \u001b[90m━━━━━━━━━━━━━━━━━━━━━━━━━━━━━━━━━━━━━━━━\u001b[0m \u001b[32m12.8/12.8 MB\u001b[0m \u001b[31m13.8 MB/s\u001b[0m eta \u001b[36m0:00:00\u001b[0m00:01\u001b[0m00:01\u001b[0m\n",
      "\u001b[?25h\u001b[38;5;2m✔ Download and installation successful\u001b[0m\n",
      "You can now load the package via spacy.load('en_core_web_sm')\n",
      "\u001b[38;5;3m⚠ Restart to reload dependencies\u001b[0m\n",
      "If you are in a Jupyter or Colab notebook, you may need to restart Python in\n",
      "order to load all the package's dependencies. You can do this by selecting the\n",
      "'Restart kernel' or 'Restart runtime' option.\n",
      "\u001b[38;5;2m✔ Download and installation successful\u001b[0m\n",
      "You can now load the package via spacy.load('en_core_web_sm')\n",
      "\u001b[38;5;3m⚠ Restart to reload dependencies\u001b[0m\n",
      "If you are in a Jupyter or Colab notebook, you may need to restart Python in\n",
      "order to load all the package's dependencies. You can do this by selecting the\n",
      "'Restart kernel' or 'Restart runtime' option.\n"
     ]
    },
    {
     "name": "stderr",
     "output_type": "stream",
     "text": [
      "\n",
      "\u001b[1m[\u001b[0m\u001b[34;49mnotice\u001b[0m\u001b[1;39;49m]\u001b[0m\u001b[39;49m A new release of pip is available: \u001b[0m\u001b[31;49m24.0\u001b[0m\u001b[39;49m -> \u001b[0m\u001b[32;49m25.1.1\u001b[0m\n",
      "\u001b[1m[\u001b[0m\u001b[34;49mnotice\u001b[0m\u001b[1;39;49m]\u001b[0m\u001b[39;49m To update, run: \u001b[0m\u001b[32;49mpip install --upgrade pip\u001b[0m\n"
     ]
    }
   ],
   "source": [
    "# Load the small English model for spaCy\n",
    "import spacy\n",
    "spacy.cli.download(\"en_core_web_sm\")\n",
    "nlp = spacy.load(\"en_core_web_sm\")"
   ]
  },
  {
   "cell_type": "code",
   "execution_count": 5,
   "id": "428c6b9a",
   "metadata": {},
   "outputs": [
    {
     "name": "stdout",
     "output_type": "stream",
     "text": [
      "First 5 rows of the dataset:\n"
     ]
    },
    {
     "data": {
      "text/html": [
       "<div>\n",
       "<style scoped>\n",
       "    .dataframe tbody tr th:only-of-type {\n",
       "        vertical-align: middle;\n",
       "    }\n",
       "\n",
       "    .dataframe tbody tr th {\n",
       "        vertical-align: top;\n",
       "    }\n",
       "\n",
       "    .dataframe thead th {\n",
       "        text-align: right;\n",
       "    }\n",
       "</style>\n",
       "<table border=\"1\" class=\"dataframe\">\n",
       "  <thead>\n",
       "    <tr style=\"text-align: right;\">\n",
       "      <th></th>\n",
       "      <th>review</th>\n",
       "      <th>sentiment</th>\n",
       "    </tr>\n",
       "  </thead>\n",
       "  <tbody>\n",
       "    <tr>\n",
       "      <th>0</th>\n",
       "      <td>One of the other reviewers has mentioned that after watching just 1 Oz episode you'll be hooked. They are right, as this is exactly what happened with me.&lt;br /&gt;&lt;br /&gt;The first thing that struck me about Oz was its brutality and unflinching scenes of violence, which set in right from the word GO. Trust me, this is not a show for the faint hearted or timid. This show pulls no punches with regards to drugs, sex or violence. Its is hardcore, in the classic use of the word.&lt;br /&gt;&lt;br /&gt;It is called OZ as that is the nickname given to the Oswald Maximum Security State Penitentary. It focuses mainly on Emerald City, an experimental section of the prison where all the cells have glass fronts and face inwards, so privacy is not high on the agenda. Em City is home to many..Aryans, Muslims, gangstas, Latinos, Christians, Italians, Irish and more....so scuffles, death stares, dodgy dealings and shady agreements are never far away.&lt;br /&gt;&lt;br /&gt;I would say the main appeal of the show is due to the fact that it goes where other shows wouldn't dare. Forget pretty pictures painted for mainstream audiences, forget charm, forget romance...OZ doesn't mess around. The first episode I ever saw struck me as so nasty it was surreal, I couldn't say I was ready for it, but as I watched more, I developed a taste for Oz, and got accustomed to the high levels of graphic violence. Not just violence, but injustice (crooked guards who'll be sold out for a nickel, inmates who'll kill on order and get away with it, well mannered, middle class inmates being turned into prison bitches due to their lack of street skills or prison experience) Watching Oz, you may become comfortable with what is uncomfortable viewing....thats if you can get in touch with your darker side.</td>\n",
       "      <td>positive</td>\n",
       "    </tr>\n",
       "    <tr>\n",
       "      <th>1</th>\n",
       "      <td>A wonderful little production. &lt;br /&gt;&lt;br /&gt;The filming technique is very unassuming- very old-time-BBC fashion and gives a comforting, and sometimes discomforting, sense of realism to the entire piece. &lt;br /&gt;&lt;br /&gt;The actors are extremely well chosen- Michael Sheen not only \"has got all the polari\" but he has all the voices down pat too! You can truly see the seamless editing guided by the references to Williams' diary entries, not only is it well worth the watching but it is a terrificly written and performed piece. A masterful production about one of the great master's of comedy and his life. &lt;br /&gt;&lt;br /&gt;The realism really comes home with the little things: the fantasy of the guard which, rather than use the traditional 'dream' techniques remains solid then disappears. It plays on our knowledge and our senses, particularly with the scenes concerning Orton and Halliwell and the sets (particularly of their flat with Halliwell's murals decorating every surface) are terribly well done.</td>\n",
       "      <td>positive</td>\n",
       "    </tr>\n",
       "    <tr>\n",
       "      <th>2</th>\n",
       "      <td>I thought this was a wonderful way to spend time on a too hot summer weekend, sitting in the air conditioned theater and watching a light-hearted comedy. The plot is simplistic, but the dialogue is witty and the characters are likable (even the well bread suspected serial killer). While some may be disappointed when they realize this is not Match Point 2: Risk Addiction, I thought it was proof that Woody Allen is still fully in control of the style many of us have grown to love.&lt;br /&gt;&lt;br /&gt;This was the most I'd laughed at one of Woody's comedies in years (dare I say a decade?). While I've never been impressed with Scarlet Johanson, in this she managed to tone down her \"sexy\" image and jumped right into a average, but spirited young woman.&lt;br /&gt;&lt;br /&gt;This may not be the crown jewel of his career, but it was wittier than \"Devil Wears Prada\" and more interesting than \"Superman\" a great comedy to go see with friends.</td>\n",
       "      <td>positive</td>\n",
       "    </tr>\n",
       "    <tr>\n",
       "      <th>3</th>\n",
       "      <td>Basically there's a family where a little boy (Jake) thinks there's a zombie in his closet &amp; his parents are fighting all the time.&lt;br /&gt;&lt;br /&gt;This movie is slower than a soap opera... and suddenly, Jake decides to become Rambo and kill the zombie.&lt;br /&gt;&lt;br /&gt;OK, first of all when you're going to make a film you must Decide if its a thriller or a drama! As a drama the movie is watchable. Parents are divorcing &amp; arguing like in real life. And then we have Jake with his closet which totally ruins all the film! I expected to see a BOOGEYMAN similar movie, and instead i watched a drama with some meaningless thriller spots.&lt;br /&gt;&lt;br /&gt;3 out of 10 just for the well playing parents &amp; descent dialogs. As for the shots with Jake: just ignore them.</td>\n",
       "      <td>negative</td>\n",
       "    </tr>\n",
       "    <tr>\n",
       "      <th>4</th>\n",
       "      <td>Petter Mattei's \"Love in the Time of Money\" is a visually stunning film to watch. Mr. Mattei offers us a vivid portrait about human relations. This is a movie that seems to be telling us what money, power and success do to people in the different situations we encounter. &lt;br /&gt;&lt;br /&gt;This being a variation on the Arthur Schnitzler's play about the same theme, the director transfers the action to the present time New York where all these different characters meet and connect. Each one is connected in one way, or another to the next person, but no one seems to know the previous point of contact. Stylishly, the film has a sophisticated luxurious look. We are taken to see how these people live and the world they live in their own habitat.&lt;br /&gt;&lt;br /&gt;The only thing one gets out of all these souls in the picture is the different stages of loneliness each one inhabits. A big city is not exactly the best place in which human relations find sincere fulfillment, as one discerns is the case with most of the people we encounter.&lt;br /&gt;&lt;br /&gt;The acting is good under Mr. Mattei's direction. Steve Buscemi, Rosario Dawson, Carol Kane, Michael Imperioli, Adrian Grenier, and the rest of the talented cast, make these characters come alive.&lt;br /&gt;&lt;br /&gt;We wish Mr. Mattei good luck and await anxiously for his next work.</td>\n",
       "      <td>positive</td>\n",
       "    </tr>\n",
       "  </tbody>\n",
       "</table>\n",
       "</div>"
      ],
      "text/plain": [
       "                                                                                                                                                                                                                                                                                                                                                                                                                                                                                                                                                                                                                                                                                                                                                                                                                                                                                                                                                                                                                                                                                                                                                                                                                                                                                                                                                                                                                                                                                                                                                                                                                                                                                                                                                                                                                              review  \\\n",
       "0  One of the other reviewers has mentioned that after watching just 1 Oz episode you'll be hooked. They are right, as this is exactly what happened with me.<br /><br />The first thing that struck me about Oz was its brutality and unflinching scenes of violence, which set in right from the word GO. Trust me, this is not a show for the faint hearted or timid. This show pulls no punches with regards to drugs, sex or violence. Its is hardcore, in the classic use of the word.<br /><br />It is called OZ as that is the nickname given to the Oswald Maximum Security State Penitentary. It focuses mainly on Emerald City, an experimental section of the prison where all the cells have glass fronts and face inwards, so privacy is not high on the agenda. Em City is home to many..Aryans, Muslims, gangstas, Latinos, Christians, Italians, Irish and more....so scuffles, death stares, dodgy dealings and shady agreements are never far away.<br /><br />I would say the main appeal of the show is due to the fact that it goes where other shows wouldn't dare. Forget pretty pictures painted for mainstream audiences, forget charm, forget romance...OZ doesn't mess around. The first episode I ever saw struck me as so nasty it was surreal, I couldn't say I was ready for it, but as I watched more, I developed a taste for Oz, and got accustomed to the high levels of graphic violence. Not just violence, but injustice (crooked guards who'll be sold out for a nickel, inmates who'll kill on order and get away with it, well mannered, middle class inmates being turned into prison bitches due to their lack of street skills or prison experience) Watching Oz, you may become comfortable with what is uncomfortable viewing....thats if you can get in touch with your darker side.   \n",
       "1                                                                                                                                                                                                                                                                                                                                                                                                                                                                                                                                                                                                                                                                                                                                                                                             A wonderful little production. <br /><br />The filming technique is very unassuming- very old-time-BBC fashion and gives a comforting, and sometimes discomforting, sense of realism to the entire piece. <br /><br />The actors are extremely well chosen- Michael Sheen not only \"has got all the polari\" but he has all the voices down pat too! You can truly see the seamless editing guided by the references to Williams' diary entries, not only is it well worth the watching but it is a terrificly written and performed piece. A masterful production about one of the great master's of comedy and his life. <br /><br />The realism really comes home with the little things: the fantasy of the guard which, rather than use the traditional 'dream' techniques remains solid then disappears. It plays on our knowledge and our senses, particularly with the scenes concerning Orton and Halliwell and the sets (particularly of their flat with Halliwell's murals decorating every surface) are terribly well done.   \n",
       "2                                                                                                                                                                                                                                                                                                                                                                                                                                                                                                                                                                                                                                                                                                                                                                                                                                                                     I thought this was a wonderful way to spend time on a too hot summer weekend, sitting in the air conditioned theater and watching a light-hearted comedy. The plot is simplistic, but the dialogue is witty and the characters are likable (even the well bread suspected serial killer). While some may be disappointed when they realize this is not Match Point 2: Risk Addiction, I thought it was proof that Woody Allen is still fully in control of the style many of us have grown to love.<br /><br />This was the most I'd laughed at one of Woody's comedies in years (dare I say a decade?). While I've never been impressed with Scarlet Johanson, in this she managed to tone down her \"sexy\" image and jumped right into a average, but spirited young woman.<br /><br />This may not be the crown jewel of his career, but it was wittier than \"Devil Wears Prada\" and more interesting than \"Superman\" a great comedy to go see with friends.   \n",
       "3                                                                                                                                                                                                                                                                                                                                                                                                                                                                                                                                                                                                                                                                                                                                                                                                                                                                                                                                                                                                                                                       Basically there's a family where a little boy (Jake) thinks there's a zombie in his closet & his parents are fighting all the time.<br /><br />This movie is slower than a soap opera... and suddenly, Jake decides to become Rambo and kill the zombie.<br /><br />OK, first of all when you're going to make a film you must Decide if its a thriller or a drama! As a drama the movie is watchable. Parents are divorcing & arguing like in real life. And then we have Jake with his closet which totally ruins all the film! I expected to see a BOOGEYMAN similar movie, and instead i watched a drama with some meaningless thriller spots.<br /><br />3 out of 10 just for the well playing parents & descent dialogs. As for the shots with Jake: just ignore them.   \n",
       "4                                                                                                                                                                                                                                                                                                                                                                                                                                                              Petter Mattei's \"Love in the Time of Money\" is a visually stunning film to watch. Mr. Mattei offers us a vivid portrait about human relations. This is a movie that seems to be telling us what money, power and success do to people in the different situations we encounter. <br /><br />This being a variation on the Arthur Schnitzler's play about the same theme, the director transfers the action to the present time New York where all these different characters meet and connect. Each one is connected in one way, or another to the next person, but no one seems to know the previous point of contact. Stylishly, the film has a sophisticated luxurious look. We are taken to see how these people live and the world they live in their own habitat.<br /><br />The only thing one gets out of all these souls in the picture is the different stages of loneliness each one inhabits. A big city is not exactly the best place in which human relations find sincere fulfillment, as one discerns is the case with most of the people we encounter.<br /><br />The acting is good under Mr. Mattei's direction. Steve Buscemi, Rosario Dawson, Carol Kane, Michael Imperioli, Adrian Grenier, and the rest of the talented cast, make these characters come alive.<br /><br />We wish Mr. Mattei good luck and await anxiously for his next work.   \n",
       "\n",
       "  sentiment  \n",
       "0  positive  \n",
       "1  positive  \n",
       "2  positive  \n",
       "3  negative  \n",
       "4  positive  "
      ]
     },
     "metadata": {},
     "output_type": "display_data"
    }
   ],
   "source": [
    "# Set pandas to display full text for better inspection\n",
    "pd.set_option('display.max_colwidth', None)\n",
    "\n",
    "# Load the dataset from the CSV file\n",
    "try:\n",
    "    df = pd.read_csv('dataset.csv')\n",
    "except FileNotFoundError:\n",
    "    print(\"Error: 'dataset.csv' not found. Make sure it's in the same folder as this notebook.\")\n",
    "\n",
    "# Display the first 5 rows and some info\n",
    "print(\"First 5 rows of the dataset:\")\n",
    "display(df.head())"
   ]
  },
  {
   "cell_type": "code",
   "execution_count": 6,
   "id": "50f056aa",
   "metadata": {},
   "outputs": [
    {
     "name": "stdout",
     "output_type": "stream",
     "text": [
      "\n",
      "Dataset Information:\n",
      "<class 'pandas.core.frame.DataFrame'>\n",
      "RangeIndex: 50000 entries, 0 to 49999\n",
      "Data columns (total 2 columns):\n",
      " #   Column     Non-Null Count  Dtype \n",
      "---  ------     --------------  ----- \n",
      " 0   review     50000 non-null  object\n",
      " 1   sentiment  50000 non-null  object\n",
      "dtypes: object(2)\n",
      "memory usage: 781.4+ KB\n"
     ]
    }
   ],
   "source": [
    "print(\"\\nDataset Information:\")\n",
    "df.info()"
   ]
  },
  {
   "cell_type": "code",
   "execution_count": 7,
   "id": "bd9dab55",
   "metadata": {},
   "outputs": [
    {
     "name": "stdout",
     "output_type": "stream",
     "text": [
      "\n",
      "Sentiment Distribution:\n",
      "sentiment\n",
      "positive    25000\n",
      "negative    25000\n",
      "Name: count, dtype: int64\n"
     ]
    }
   ],
   "source": [
    "print(\"\\nSentiment Distribution:\")\n",
    "print(df['sentiment'].value_counts())"
   ]
  },
  {
   "cell_type": "code",
   "execution_count": 20,
   "id": "c7564b1f",
   "metadata": {},
   "outputs": [
    {
     "data": {
      "text/plain": [
       "{'a',\n",
       " 'about',\n",
       " 'above',\n",
       " 'after',\n",
       " 'again',\n",
       " 'against',\n",
       " 'ain',\n",
       " 'all',\n",
       " 'am',\n",
       " 'an',\n",
       " 'and',\n",
       " 'any',\n",
       " 'are',\n",
       " 'aren',\n",
       " \"aren't\",\n",
       " 'as',\n",
       " 'at',\n",
       " 'be',\n",
       " 'because',\n",
       " 'been',\n",
       " 'before',\n",
       " 'being',\n",
       " 'below',\n",
       " 'between',\n",
       " 'both',\n",
       " 'but',\n",
       " 'by',\n",
       " 'can',\n",
       " 'couldn',\n",
       " \"couldn't\",\n",
       " 'd',\n",
       " 'did',\n",
       " 'didn',\n",
       " \"didn't\",\n",
       " 'do',\n",
       " 'does',\n",
       " 'doesn',\n",
       " \"doesn't\",\n",
       " 'doing',\n",
       " 'don',\n",
       " \"don't\",\n",
       " 'down',\n",
       " 'during',\n",
       " 'each',\n",
       " 'few',\n",
       " 'for',\n",
       " 'from',\n",
       " 'further',\n",
       " 'had',\n",
       " 'hadn',\n",
       " \"hadn't\",\n",
       " 'has',\n",
       " 'hasn',\n",
       " \"hasn't\",\n",
       " 'have',\n",
       " 'haven',\n",
       " \"haven't\",\n",
       " 'having',\n",
       " 'he',\n",
       " \"he'd\",\n",
       " \"he'll\",\n",
       " \"he's\",\n",
       " 'her',\n",
       " 'here',\n",
       " 'hers',\n",
       " 'herself',\n",
       " 'him',\n",
       " 'himself',\n",
       " 'his',\n",
       " 'how',\n",
       " 'i',\n",
       " \"i'd\",\n",
       " \"i'll\",\n",
       " \"i'm\",\n",
       " \"i've\",\n",
       " 'if',\n",
       " 'in',\n",
       " 'into',\n",
       " 'is',\n",
       " 'isn',\n",
       " \"isn't\",\n",
       " 'it',\n",
       " \"it'd\",\n",
       " \"it'll\",\n",
       " \"it's\",\n",
       " 'its',\n",
       " 'itself',\n",
       " 'just',\n",
       " 'll',\n",
       " 'm',\n",
       " 'ma',\n",
       " 'me',\n",
       " 'mightn',\n",
       " \"mightn't\",\n",
       " 'more',\n",
       " 'most',\n",
       " 'mustn',\n",
       " \"mustn't\",\n",
       " 'my',\n",
       " 'myself',\n",
       " 'needn',\n",
       " \"needn't\",\n",
       " 'no',\n",
       " 'nor',\n",
       " 'not',\n",
       " 'now',\n",
       " 'o',\n",
       " 'of',\n",
       " 'off',\n",
       " 'on',\n",
       " 'once',\n",
       " 'only',\n",
       " 'or',\n",
       " 'other',\n",
       " 'our',\n",
       " 'ours',\n",
       " 'ourselves',\n",
       " 'out',\n",
       " 'over',\n",
       " 'own',\n",
       " 're',\n",
       " 's',\n",
       " 'same',\n",
       " 'shan',\n",
       " \"shan't\",\n",
       " 'she',\n",
       " \"she'd\",\n",
       " \"she'll\",\n",
       " \"she's\",\n",
       " 'should',\n",
       " \"should've\",\n",
       " 'shouldn',\n",
       " \"shouldn't\",\n",
       " 'so',\n",
       " 'some',\n",
       " 'such',\n",
       " 't',\n",
       " 'than',\n",
       " 'that',\n",
       " \"that'll\",\n",
       " 'the',\n",
       " 'their',\n",
       " 'theirs',\n",
       " 'them',\n",
       " 'themselves',\n",
       " 'then',\n",
       " 'there',\n",
       " 'these',\n",
       " 'they',\n",
       " \"they'd\",\n",
       " \"they'll\",\n",
       " \"they're\",\n",
       " \"they've\",\n",
       " 'this',\n",
       " 'those',\n",
       " 'through',\n",
       " 'to',\n",
       " 'too',\n",
       " 'under',\n",
       " 'until',\n",
       " 'up',\n",
       " 've',\n",
       " 'very',\n",
       " 'was',\n",
       " 'wasn',\n",
       " \"wasn't\",\n",
       " 'we',\n",
       " \"we'd\",\n",
       " \"we'll\",\n",
       " \"we're\",\n",
       " \"we've\",\n",
       " 'were',\n",
       " 'weren',\n",
       " \"weren't\",\n",
       " 'what',\n",
       " 'when',\n",
       " 'where',\n",
       " 'which',\n",
       " 'while',\n",
       " 'who',\n",
       " 'whom',\n",
       " 'why',\n",
       " 'will',\n",
       " 'with',\n",
       " 'won',\n",
       " \"won't\",\n",
       " 'wouldn',\n",
       " \"wouldn't\",\n",
       " 'y',\n",
       " 'you',\n",
       " \"you'd\",\n",
       " \"you'll\",\n",
       " \"you're\",\n",
       " \"you've\",\n",
       " 'your',\n",
       " 'yours',\n",
       " 'yourself',\n",
       " 'yourselves'}"
      ]
     },
     "execution_count": 20,
     "metadata": {},
     "output_type": "execute_result"
    }
   ],
   "source": [
    "# Get the list of English stop words\n",
    "stop_words = set(stopwords.words('english'))\n",
    "stop_words"
   ]
  },
  {
   "cell_type": "code",
   "execution_count": 9,
   "id": "f0dd5012",
   "metadata": {},
   "outputs": [],
   "source": [
    "def preprocess_text(text):\n",
    "    \"\"\"\n",
    "    Cleans and preprocesses a single text string.\n",
    "    1. Removes HTML tags\n",
    "    2. Lowercases text\n",
    "    3. Removes punctuation and numbers\n",
    "    4. Tokenizes text\n",
    "    5. Removes stop words\n",
    "    6. Lemmatizes words\n",
    "    \"\"\"\n",
    "    text = re.sub(r'<.*?>', '', text)\n",
    "    text = text.lower()\n",
    "    text = re.sub(r'[^a-z\\s]', '', text)\n",
    "    tokens = word_tokenize(text)\n",
    "    tokens = [word for word in tokens if word not in stop_words]\n",
    "    \n",
    "    # Lemmatization is often better than stemming\n",
    "    text = ' '.join(tokens)\n",
    "    doc = nlp(text)\n",
    "    lemmatized_tokens = [token.lemma_ for token in doc]\n",
    "    \n",
    "    return ' '.join(lemmatized_tokens)"
   ]
  },
  {
   "cell_type": "code",
   "execution_count": null,
   "id": "3d4a144b",
   "metadata": {},
   "outputs": [
    {
     "name": "stdout",
     "output_type": "stream",
     "text": [
      "Preprocessing all 50,000 reviews... (This may take a few minutes)\n",
      "Preprocessing complete!\n",
      "\n",
      "Comparing Original vs. Cleaned Review:\n"
     ]
    },
    {
     "data": {
      "text/html": [
       "<div>\n",
       "<style scoped>\n",
       "    .dataframe tbody tr th:only-of-type {\n",
       "        vertical-align: middle;\n",
       "    }\n",
       "\n",
       "    .dataframe tbody tr th {\n",
       "        vertical-align: top;\n",
       "    }\n",
       "\n",
       "    .dataframe thead th {\n",
       "        text-align: right;\n",
       "    }\n",
       "</style>\n",
       "<table border=\"1\" class=\"dataframe\">\n",
       "  <thead>\n",
       "    <tr style=\"text-align: right;\">\n",
       "      <th></th>\n",
       "      <th>review</th>\n",
       "      <th>cleaned_review</th>\n",
       "    </tr>\n",
       "  </thead>\n",
       "  <tbody>\n",
       "    <tr>\n",
       "      <th>16688</th>\n",
       "      <td>i watched the longer version and could not take my eyes off the screen. 219 minutes passed and yet it seemed like only an hour had gone by. the characters were very believable and entertaining, and the photography was excellent. the story pulled me in and held my attention. i will definitely watch this again and again. this true story telling at it's best... not Hollywoods usual cheap thrills and skin deep glitz. i've seen a quite a lot of reviews on this movie. most seem to pan the film or give it faint praise. basically, it's a great film that received unfairly harsh reviews. watch it for yourself with an open mind. if you like westerns, historic period pieces, albeit historically inaccurate you'll enjoy the movie. Superb!!! 10/10</td>\n",
       "      <td>watch long version could take eye screen minute pass yet seem like hour go character believable entertaining photography excellent story pull hold attention definitely watch true story tell good hollywood usual cheap thrill skin deep glitz I ve see quite lot review movie seem pan film give faint praise basically great film receive unfairly harsh review watch open mind like western historic period piece albeit historically inaccurate you ll enjoy movie superb</td>\n",
       "    </tr>\n",
       "    <tr>\n",
       "      <th>13957</th>\n",
       "      <td>The only thing romantic about this movie is the pain and anguish of romance. If you are expecting this cinematic adaptation of another Nicholas Sparks novel to follow the surefire formula of previous films, such as \"Message in a Bottle,\" \"Nights at Rodanthe,\" and \"A Walk to Remember,\" think again. Nobody dies from an accident trying to save somebody else and the romance here doesn't transform these characters. If anything, it makes them even more miserable than they were.&lt;br /&gt;&lt;br /&gt;A soft-spoken Special Forces Army Sergeant, John Tyree (Channing Tatum of \"G.I. Joe\"), has a memorable two-week fling while on leave from the military with an impressionable college girl, Savannah Curtis (radiant Amanda Seyfriend of \"Mamma Mia\"), who is spending spring break in South Carolina. Savannah doesn't drink, smoke, but she tells John that her head is filled with profanity. Inevitably, John and Savannah topple madly in love with each other and launch an endless exchange letters of love letters that are sleep-inducing by any standard. Tyree is off in the world serving the military in some godforsaken corner of the globe while she is away at college perusing his letters in class. Just as they are getting hot and heavy between them, suicidal terrorists crash planes into the World Trade Center. John reenlists along with his buddies in a wave of patriotism without discussing the option with Savannah.&lt;br /&gt;&lt;br /&gt;Meanwhile, another guy, shaggy but likable family friend Tim (Henry Thomas of \"E.T.: The Extra-Terrestrial\") who has a motherless, autistic child named Alan becomes the object of Savannah's sentiment. She is the kind of girl who helps build houses for the less fortunate and wants to start a summer horse ranch for autistic children. She delays what seems forever before she finally contacts Tyree with the eponymous letter. Indeed, she dumps him for a man with a disease! Later, she confesses to John that she knew the sound of his voice would have broken her resolve to marry Tim, so she doesn't make that fateful call. Predictably, John agonizes over Savannah's lack of communication. During a routine mission, our hero takes a couple of terrorist bullets in the back and winds up in Germany. While all this is transpiring, Tyree is trying to come to terms with his own coin-collecting father, Mr. Tyree (Richard Jenkins of \"Step Brothers\"), who suffers from Asperger's Syndrome. It seems that his father is on his last legs after John gets out of the hospital. The lead female character lacks a shred of respect and her betrayal of Tyree amounts to a pretty low blow. Tyree, his father, and Tyree's commander, Keith Robinson, are the only sympathetic characters in this long distance epistolary romance. &lt;br /&gt;&lt;br /&gt;\"Dear John\" gives new meaning to lethargic love stories. Yuck!</td>\n",
       "      <td>thing romantic movie pain anguish romance expect cinematic adaptation another nichola spark novel follow surefire formula previous film message bottle night rodanthe walk remember think nobody die accident try save somebody else romance do not transform character anything make even miserable werea softspoken special force army sergeant john tyree channing tatum gi joe memorable twoweek fling leave military impressionable college girl savannah curtis radiant amanda seyfriend mamma mia spending spring break south carolina savannah do not drink smoke tell john head fill profanity inevitably john savannah topple madly love launch endless exchange letter love letter sleepinduce standard tyree world serve military godforsaken corner globe away college peruse letter class get hot heavy suicidal terrorist crash plane world trade center john reenlists along buddy wave patriotism without discuss option savannahmeanwhile another guy shaggy likable family friend tim henry thomas et extraterrestrial motherless autistic child name alan become object savannah sentiment kind girl help build house less fortunate want start summer horse ranch autistic child delay seem forever finally contact tyree eponymous letter indeed dump man disease later confess john know sound voice would break resolve marry tim do not make fateful call predictably john agonize savannah lack communication routine mission hero take couple terrorist bullet back wind germany transpire tyree trying come term coincollecte father mr tyree richard jenkins step brother suffer asperger syndrome seem father last leg john get hospital lead female character lack shre respect betrayal tyree amount pretty low blow tyree father tyrees commander keith robinson sympathetic character long distance epistolary romance dear john give new meaning lethargic love story yuck</td>\n",
       "    </tr>\n",
       "    <tr>\n",
       "      <th>22605</th>\n",
       "      <td>Calling this film a decent or enjoyable horror tribute is far too optimistic. Heck, you can't even refer to it as a nice spoof of the genre because it's way below average ( it's funny, but not \"haha-funny, you know). But still I'd say to give it a look. If only for the huge amount of trivia elements in it. By the way, all those people who're complaining about this movie here in their comments have only themselves to blame. When you see the DVD-cover of this film, you should already know that it's not going to be on the same level as \"The Piano\" for example, so don't come complaining afterwards...&lt;br /&gt;&lt;br /&gt;Evil Ed could've been something but the totally screwed it up. I suppose the main idea behind this film is criticism towards the growing 'cutting-committee' in horror nowadays. It shows an editor named Edward who's slowly (well,not too slowly) going nuts by seeing all the violence and gore in the movies produced by his company produced. The big boss is named Sam Campbell...Funny, isn't it ? Personally I also expected a character named Bruce Raimi, but to my surprise there wasn't. Anyway, this guy became rich by making movies called \"Loose Limbs\". They feature ( and I'm not kidding you! ) scenes in which a girl is getting raped by a BEAVER (?) and then gets shot in the head by a bazooka !!! Now, who says horror isn't original anymore ?&lt;br /&gt;&lt;br /&gt;With all the gore and the 'loose limbs', it's hard to believe it but it really gets boring very quick. After a decent first 25 minutes, Evil Ed turns into complete boredom and never recovers from that. The only think left to do then ( besides pushing the eject-button, of course ) is look for the obvious amount of references to other, much better horror films. I saw scenes obviously stolen from The Evil Dead, Silence of the Lambs, Braindead and several others.And there's a huge amount of classic horror posters on the walls to admire as well.&lt;br /&gt;&lt;br /&gt;Evil Ed finds it origin in Sweden. I'm convinced there's a lot up talent there, far North ( take the Danish \"Nattevagten\" as an example )...but none of them talents joined the cast or crew of Evil Ed. Only to see if you're in a dumb mood and you don't want to use your brain at all.</td>\n",
       "      <td>call film decent enjoyable horror tribute far optimistic heck can not even refer nice spoof genre way average funny hahafunny know still I d say give look huge amount trivia element way people whore complain movie comment blame see dvdcover film already know go level piano example do not come complain afterwardsevil ed could ve something totally screw suppose main idea behind film criticism towards grow cuttingcommittee horror nowadays show editor name edward who s slowly wellnot slowly go nuts see violence gore movie produce company produce big boss name sam campbellfunny be not personally also expect character name bruce raimi surprise be not anyway guy become rich make movie call loose limb feature I m kid scene girl getting rape beaver get shoot head bazooka say horror be not original anymore gore loose limb hard believe really get boring quick decent first minute evil ed turn complete boredom never recover think leave besides push ejectbutton course look obvious amount reference much well horror film see scene obviously steal evil dead silence lamb braindead several othersand there s huge amount classic horror poster wall admire wellevil ed find origin sweden I m convinced there s lot talent far north take danish nattevagten example none talent join cast crew evil ed see you re dumb mood do not want use brain</td>\n",
       "    </tr>\n",
       "    <tr>\n",
       "      <th>33457</th>\n",
       "      <td>Robert Altman, Nicolas Roeg, John-Luc Goddard--you were expecting a fun film the entire family could enjoy? These and other directors were obviously chosen because they have not followed the mainstream, but created it. For those that complain that they did not adhere to the original story of the opera--How often does the music in a film directly relate to what is going on in the film? It is the mood that counts. This is what I believe the directors of these movies were doing: creating a contemporary mood for old operas. For the most part they succeed wonderfully. With all these operas, who is going to like them all. We could have used more Beverly Sills.&lt;br /&gt;&lt;br /&gt;Finally, what is art (even opera) without a few naked women?</td>\n",
       "      <td>robert altman nicolas roeg johnluc goddardyou expect fun film entire family could enjoy director obviously choose follow mainstream create complain adhere original story operahow often music film directly relate go film mood count believe director movie create contemporary mood old opera part succeed wonderfully opera go like could use beverly sillsfinally art even opera without naked woman</td>\n",
       "    </tr>\n",
       "    <tr>\n",
       "      <th>18102</th>\n",
       "      <td>A fantastic cinema experience. I really enjoyed seeing this truly magnificent film in the theater when it came out. There is nothing to add, except that is a terrible shame that sir Albert Finney still isn't accepted by the AMPAS (American Academy). After roles in such films as Tom Jones, Murder on the Orient Express, Under the Volcano (to name only few - for these he was nominated for the Oscar), The Dresser is arguably his highlight, yet...&lt;br /&gt;&lt;br /&gt;I know, Oscars are just popularity contest, but if Americans like British actors and actresses (\"and the Oscar goes to\" Jeremy Irons, Daniel Day-Lewis, Anthony Hopkins, Emma Thompson, Glenda Jackson etc. - and they all deserved the award!), why they always left sir Finney with empty hands?&lt;br /&gt;&lt;br /&gt;On the other hand, they gave it to John Wayne and Marisa Tomei (in Cousin Vinny). I don't know, should I laugh or cry.&lt;br /&gt;&lt;br /&gt;If you have seen the two leads in The Dresser, you won't forget what is the art of acting. Watch this film and enjoy! I recommend it to everyone who loves art.&lt;br /&gt;&lt;br /&gt;I give 9/10 for this excellent film (1 point missing for non-cinematic material, after all it is \"just\" a theater)&lt;br /&gt;&lt;br /&gt;Note: My criteria is much stronger than this on IMDb (10 only for the cinematic masterpiece that should/could last forever).</td>\n",
       "      <td>fantastic cinema experience really enjoy see truly magnificent film theater come nothing add except terrible shame sir albert finney still be not accept ampas american academy role film tom jones murder orient express volcano name nominate oscar dresser arguably highlight yeti know oscar popularity contest americans like british actor actress oscar go jeremy iron daniel daylewis anthony hopkins emma thompson glenda jackson etc deserved award always leave sir finney empty handson hand give john wayne marisa tomei cousin vinny do not know laugh cryif see two lead dresser will not forget art act watch film enjoy recommend everyone love arti give excellent film point miss noncinematic material theaternote criterion much strong imdb cinematic masterpiece shouldcould last forever</td>\n",
       "    </tr>\n",
       "  </tbody>\n",
       "</table>\n",
       "</div>"
      ],
      "text/plain": [
       "                                                                                                                                                                                                                                                                                                                                                                                                                                                                                                                                                                                                                                                                                                                                                                                                                                                                                                                                                                                                                                                                                                                                                                                                                                                                                                                                                                                                                                                                                                                                                                                                                                                                                                                                                                                                                                                                                                                                                                                                                                                                                                                                                                                                                                                                                                                                                                                                                                                                                                                                                                                                                                                                                                                                                                                                                                                                                                               review  \\\n",
       "16688                                                                                                                                                                                                                                                                                                                                                                                                                                                                                                                                                                                                                                                                                                                                                                                                                                                                                                                                                                                                                                                                                                                                                                                                                                                                                                                                                                                                                                                                                                                                                                                                                                                                                                                                                                                                                                                                                                                                                                                                                                                                                                                                          i watched the longer version and could not take my eyes off the screen. 219 minutes passed and yet it seemed like only an hour had gone by. the characters were very believable and entertaining, and the photography was excellent. the story pulled me in and held my attention. i will definitely watch this again and again. this true story telling at it's best... not Hollywoods usual cheap thrills and skin deep glitz. i've seen a quite a lot of reviews on this movie. most seem to pan the film or give it faint praise. basically, it's a great film that received unfairly harsh reviews. watch it for yourself with an open mind. if you like westerns, historic period pieces, albeit historically inaccurate you'll enjoy the movie. Superb!!! 10/10   \n",
       "13957  The only thing romantic about this movie is the pain and anguish of romance. If you are expecting this cinematic adaptation of another Nicholas Sparks novel to follow the surefire formula of previous films, such as \"Message in a Bottle,\" \"Nights at Rodanthe,\" and \"A Walk to Remember,\" think again. Nobody dies from an accident trying to save somebody else and the romance here doesn't transform these characters. If anything, it makes them even more miserable than they were.<br /><br />A soft-spoken Special Forces Army Sergeant, John Tyree (Channing Tatum of \"G.I. Joe\"), has a memorable two-week fling while on leave from the military with an impressionable college girl, Savannah Curtis (radiant Amanda Seyfriend of \"Mamma Mia\"), who is spending spring break in South Carolina. Savannah doesn't drink, smoke, but she tells John that her head is filled with profanity. Inevitably, John and Savannah topple madly in love with each other and launch an endless exchange letters of love letters that are sleep-inducing by any standard. Tyree is off in the world serving the military in some godforsaken corner of the globe while she is away at college perusing his letters in class. Just as they are getting hot and heavy between them, suicidal terrorists crash planes into the World Trade Center. John reenlists along with his buddies in a wave of patriotism without discussing the option with Savannah.<br /><br />Meanwhile, another guy, shaggy but likable family friend Tim (Henry Thomas of \"E.T.: The Extra-Terrestrial\") who has a motherless, autistic child named Alan becomes the object of Savannah's sentiment. She is the kind of girl who helps build houses for the less fortunate and wants to start a summer horse ranch for autistic children. She delays what seems forever before she finally contacts Tyree with the eponymous letter. Indeed, she dumps him for a man with a disease! Later, she confesses to John that she knew the sound of his voice would have broken her resolve to marry Tim, so she doesn't make that fateful call. Predictably, John agonizes over Savannah's lack of communication. During a routine mission, our hero takes a couple of terrorist bullets in the back and winds up in Germany. While all this is transpiring, Tyree is trying to come to terms with his own coin-collecting father, Mr. Tyree (Richard Jenkins of \"Step Brothers\"), who suffers from Asperger's Syndrome. It seems that his father is on his last legs after John gets out of the hospital. The lead female character lacks a shred of respect and her betrayal of Tyree amounts to a pretty low blow. Tyree, his father, and Tyree's commander, Keith Robinson, are the only sympathetic characters in this long distance epistolary romance. <br /><br />\"Dear John\" gives new meaning to lethargic love stories. Yuck!   \n",
       "22605                                                                                                                                                                                                                                                                                                                                                                                                                                                                                                                                                                                                             Calling this film a decent or enjoyable horror tribute is far too optimistic. Heck, you can't even refer to it as a nice spoof of the genre because it's way below average ( it's funny, but not \"haha-funny, you know). But still I'd say to give it a look. If only for the huge amount of trivia elements in it. By the way, all those people who're complaining about this movie here in their comments have only themselves to blame. When you see the DVD-cover of this film, you should already know that it's not going to be on the same level as \"The Piano\" for example, so don't come complaining afterwards...<br /><br />Evil Ed could've been something but the totally screwed it up. I suppose the main idea behind this film is criticism towards the growing 'cutting-committee' in horror nowadays. It shows an editor named Edward who's slowly (well,not too slowly) going nuts by seeing all the violence and gore in the movies produced by his company produced. The big boss is named Sam Campbell...Funny, isn't it ? Personally I also expected a character named Bruce Raimi, but to my surprise there wasn't. Anyway, this guy became rich by making movies called \"Loose Limbs\". They feature ( and I'm not kidding you! ) scenes in which a girl is getting raped by a BEAVER (?) and then gets shot in the head by a bazooka !!! Now, who says horror isn't original anymore ?<br /><br />With all the gore and the 'loose limbs', it's hard to believe it but it really gets boring very quick. After a decent first 25 minutes, Evil Ed turns into complete boredom and never recovers from that. The only think left to do then ( besides pushing the eject-button, of course ) is look for the obvious amount of references to other, much better horror films. I saw scenes obviously stolen from The Evil Dead, Silence of the Lambs, Braindead and several others.And there's a huge amount of classic horror posters on the walls to admire as well.<br /><br />Evil Ed finds it origin in Sweden. I'm convinced there's a lot up talent there, far North ( take the Danish \"Nattevagten\" as an example )...but none of them talents joined the cast or crew of Evil Ed. Only to see if you're in a dumb mood and you don't want to use your brain at all.   \n",
       "33457                                                                                                                                                                                                                                                                                                                                                                                                                                                                                                                                                                                                                                                                                                                                                                                                                                                                                                                                                                                                                                                                                                                                                                                                                                                                                                                                                                                                                                                                                                                                                                                                                                                                                                                                                                                                                                                                                                                                                                                                                                                                                                                                                  Robert Altman, Nicolas Roeg, John-Luc Goddard--you were expecting a fun film the entire family could enjoy? These and other directors were obviously chosen because they have not followed the mainstream, but created it. For those that complain that they did not adhere to the original story of the opera--How often does the music in a film directly relate to what is going on in the film? It is the mood that counts. This is what I believe the directors of these movies were doing: creating a contemporary mood for old operas. For the most part they succeed wonderfully. With all these operas, who is going to like them all. We could have used more Beverly Sills.<br /><br />Finally, what is art (even opera) without a few naked women?   \n",
       "18102                                                                                                                                                                                                                                                                                                                                                                                                                                                                                                                                                                                                                                                                                                                                                                                                                                                                                                                                                                                                                                                                                                                                                                                                                                                                                                                                                                                                                                                                                                                                                 A fantastic cinema experience. I really enjoyed seeing this truly magnificent film in the theater when it came out. There is nothing to add, except that is a terrible shame that sir Albert Finney still isn't accepted by the AMPAS (American Academy). After roles in such films as Tom Jones, Murder on the Orient Express, Under the Volcano (to name only few - for these he was nominated for the Oscar), The Dresser is arguably his highlight, yet...<br /><br />I know, Oscars are just popularity contest, but if Americans like British actors and actresses (\"and the Oscar goes to\" Jeremy Irons, Daniel Day-Lewis, Anthony Hopkins, Emma Thompson, Glenda Jackson etc. - and they all deserved the award!), why they always left sir Finney with empty hands?<br /><br />On the other hand, they gave it to John Wayne and Marisa Tomei (in Cousin Vinny). I don't know, should I laugh or cry.<br /><br />If you have seen the two leads in The Dresser, you won't forget what is the art of acting. Watch this film and enjoy! I recommend it to everyone who loves art.<br /><br />I give 9/10 for this excellent film (1 point missing for non-cinematic material, after all it is \"just\" a theater)<br /><br />Note: My criteria is much stronger than this on IMDb (10 only for the cinematic masterpiece that should/could last forever).   \n",
       "\n",
       "                                                                                                                                                                                                                                                                                                                                                                                                                                                                                                                                                                                                                                                                                                                                                                                                                                                                                                                                                                                                                                                                                                                                                                                                                                                                                                                                                                                                                                                                                                                                                                                                                                                                                                                                                                                                                                                                                                      cleaned_review  \n",
       "16688                                                                                                                                                                                                                                                                                                                                                                                                                                                                                                                                                                                                                                                                                                                                                                                                                                                                                                                                                                                                                                                                                                                                                                                                                                                                                                                                                                                                                                 watch long version could take eye screen minute pass yet seem like hour go character believable entertaining photography excellent story pull hold attention definitely watch true story tell good hollywood usual cheap thrill skin deep glitz I ve see quite lot review movie seem pan film give faint praise basically great film receive unfairly harsh review watch open mind like western historic period piece albeit historically inaccurate you ll enjoy movie superb  \n",
       "13957  thing romantic movie pain anguish romance expect cinematic adaptation another nichola spark novel follow surefire formula previous film message bottle night rodanthe walk remember think nobody die accident try save somebody else romance do not transform character anything make even miserable werea softspoken special force army sergeant john tyree channing tatum gi joe memorable twoweek fling leave military impressionable college girl savannah curtis radiant amanda seyfriend mamma mia spending spring break south carolina savannah do not drink smoke tell john head fill profanity inevitably john savannah topple madly love launch endless exchange letter love letter sleepinduce standard tyree world serve military godforsaken corner globe away college peruse letter class get hot heavy suicidal terrorist crash plane world trade center john reenlists along buddy wave patriotism without discuss option savannahmeanwhile another guy shaggy likable family friend tim henry thomas et extraterrestrial motherless autistic child name alan become object savannah sentiment kind girl help build house less fortunate want start summer horse ranch autistic child delay seem forever finally contact tyree eponymous letter indeed dump man disease later confess john know sound voice would break resolve marry tim do not make fateful call predictably john agonize savannah lack communication routine mission hero take couple terrorist bullet back wind germany transpire tyree trying come term coincollecte father mr tyree richard jenkins step brother suffer asperger syndrome seem father last leg john get hospital lead female character lack shre respect betrayal tyree amount pretty low blow tyree father tyrees commander keith robinson sympathetic character long distance epistolary romance dear john give new meaning lethargic love story yuck  \n",
       "22605                                                                                                                                                                                                                                                                                                                                                                                                                                                                                                                        call film decent enjoyable horror tribute far optimistic heck can not even refer nice spoof genre way average funny hahafunny know still I d say give look huge amount trivia element way people whore complain movie comment blame see dvdcover film already know go level piano example do not come complain afterwardsevil ed could ve something totally screw suppose main idea behind film criticism towards grow cuttingcommittee horror nowadays show editor name edward who s slowly wellnot slowly go nuts see violence gore movie produce company produce big boss name sam campbellfunny be not personally also expect character name bruce raimi surprise be not anyway guy become rich make movie call loose limb feature I m kid scene girl getting rape beaver get shoot head bazooka say horror be not original anymore gore loose limb hard believe really get boring quick decent first minute evil ed turn complete boredom never recover think leave besides push ejectbutton course look obvious amount reference much well horror film see scene obviously steal evil dead silence lamb braindead several othersand there s huge amount classic horror poster wall admire wellevil ed find origin sweden I m convinced there s lot talent far north take danish nattevagten example none talent join cast crew evil ed see you re dumb mood do not want use brain  \n",
       "33457                                                                                                                                                                                                                                                                                                                                                                                                                                                                                                                                                                                                                                                                                                                                                                                                                                                                                                                                                                                                                                                                                                                                                                                                                                                                                                                                                                                                                                                                                                      robert altman nicolas roeg johnluc goddardyou expect fun film entire family could enjoy director obviously choose follow mainstream create complain adhere original story operahow often music film directly relate go film mood count believe director movie create contemporary mood old opera part succeed wonderfully opera go like could use beverly sillsfinally art even opera without naked woman  \n",
       "18102                                                                                                                                                                                                                                                                                                                                                                                                                                                                                                                                                                                                                                                                                                                                                                                                                                                                                                                                                                                                                                                                                               fantastic cinema experience really enjoy see truly magnificent film theater come nothing add except terrible shame sir albert finney still be not accept ampas american academy role film tom jones murder orient express volcano name nominate oscar dresser arguably highlight yeti know oscar popularity contest americans like british actor actress oscar go jeremy iron daniel daylewis anthony hopkins emma thompson glenda jackson etc deserved award always leave sir finney empty handson hand give john wayne marisa tomei cousin vinny do not know laugh cryif see two lead dresser will not forget art act watch film enjoy recommend everyone love arti give excellent film point miss noncinematic material theaternote criterion much strong imdb cinematic masterpiece shouldcould last forever  "
      ]
     },
     "metadata": {},
     "output_type": "display_data"
    }
   ],
   "source": [
    "print(\"Preprocessing all 50,000 reviews... (This may take a few minutes)\")\n",
    "df = df.sample(500).copy() # Use .copy() to avoid SettingWithCopyWarning\n",
    "df['cleaned_review'] = df['review'].apply(preprocess_text)\n",
    "print(\"Preprocessing complete!\")\n",
    "\n",
    "# Display a comparison of original vs. cleaned review\n",
    "print(\"\\nComparing Original vs. Cleaned Review:\")\n",
    "display(df[['review', 'cleaned_review']].head())"
   ]
  },
  {
   "cell_type": "code",
   "execution_count": 22,
   "id": "8585a6c0",
   "metadata": {},
   "outputs": [
    {
     "name": "stdout",
     "output_type": "stream",
     "text": [
      "Training set size: 4000\n",
      "Testing set size: 1000\n"
     ]
    }
   ],
   "source": [
    "from sklearn.model_selection import train_test_split\n",
    "\n",
    "# Map sentiment labels to 0 and 1\n",
    "df['sentiment_numeric'] = df['sentiment'].map({'positive': 1, 'negative': 0})\n",
    "\n",
    "# Define our features (X) and target (y)\n",
    "X = df['cleaned_review']\n",
    "y = df['sentiment_numeric']\n",
    "\n",
    "# Split the data into training and testing sets (80% train, 20% test)\n",
    "# stratify=y ensures the train/test split has the same proportion of sentiments as the original dataset\n",
    "X_train, X_test, y_train, y_test = train_test_split(X, y, test_size=0.2, random_state=42, stratify=y)\n",
    "\n",
    "print(f\"Training set size: {len(X_train)}\")\n",
    "print(f\"Testing set size: {len(X_test)}\")"
   ]
  },
  {
   "cell_type": "code",
   "execution_count": null,
   "id": "0f146c89",
   "metadata": {},
   "outputs": [
    {
     "name": "stdout",
     "output_type": "stream",
     "text": [
      "Shape of the training TF-IDF matrix: (4000, 5000)\n",
      "Shape of the testing TF-IDF matrix: (1000, 5000)\n"
     ]
    }
   ],
   "source": [
    "\n",
    "\n",
    "from sklearn.feature_extraction.text import TfidfVectorizer\n",
    "\n",
    "# Initialize the TF-IDF Vectorizer\n",
    "# max_features=5000 means we only use the 5000 most common words, which is efficient\n",
    "tfidf = TfidfVectorizer(max_features=5000)\n",
    "\n",
    "# Fit the vectorizer on the training data and transform it\n",
    "X_train_tfidf = tfidf.fit_transform(X_train)\n",
    "\n",
    "# ONLY transform the test data using the already-fitted vectorizer\n",
    "X_test_tfidf = tfidf.transform(X_test)\n",
    "\n",
    "print(f\"Shape of the training TF-IDF matrix: {X_train_tfidf.shape}\")\n",
    "print(f\"Shape of the testing TF-IDF matrix: {X_test_tfidf.shape}\")"
   ]
  },
  {
   "cell_type": "code",
   "execution_count": 13,
   "id": "5aae0e3e",
   "metadata": {},
   "outputs": [
    {
     "name": "stdout",
     "output_type": "stream",
     "text": [
      "Model training complete!\n"
     ]
    }
   ],
   "source": [
    "from sklearn.linear_model import LogisticRegression\n",
    "\n",
    "# Initialize and train the model\n",
    "# solver='liblinear' is a good choice for this type of problem\n",
    "model = LogisticRegression(solver='liblinear')\n",
    "model.fit(X_train_tfidf, y_train)\n",
    "\n",
    "print(\"Model training complete!\")"
   ]
  },
  {
   "cell_type": "code",
   "execution_count": 14,
   "id": "656ba68a",
   "metadata": {},
   "outputs": [
    {
     "name": "stdout",
     "output_type": "stream",
     "text": [
      "Model Accuracy: 0.8590\n",
      "\n",
      "Classification Report:\n",
      "              precision    recall  f1-score   support\n",
      "\n",
      "    Negative       0.88      0.83      0.85       498\n",
      "    Positive       0.84      0.88      0.86       502\n",
      "\n",
      "    accuracy                           0.86      1000\n",
      "   macro avg       0.86      0.86      0.86      1000\n",
      "weighted avg       0.86      0.86      0.86      1000\n",
      "\n"
     ]
    },
    {
     "data": {
      "image/png": "[encoded data removed]",
      "text/plain": [
       "<Figure size 600x500 with 2 Axes>"
      ]
     },
     "metadata": {},
     "output_type": "display_data"
    }
   ],
   "source": [
    "from sklearn.metrics import accuracy_score, classification_report, confusion_matrix\n",
    "import matplotlib.pyplot as plt\n",
    "import seaborn as sns\n",
    "\n",
    "# Make predictions on the test set\n",
    "y_pred = model.predict(X_test_tfidf)\n",
    "\n",
    "# Calculate accuracy\n",
    "accuracy = accuracy_score(y_test, y_pred)\n",
    "print(f\"Model Accuracy: {accuracy:.4f}\")\n",
    "\n",
    "# Print the detailed classification report\n",
    "print(\"\\nClassification Report:\")\n",
    "print(classification_report(y_test, y_pred, target_names=['Negative', 'Positive']))\n",
    "\n",
    "# Plot the confusion matrix\n",
    "cm = confusion_matrix(y_test, y_pred)\n",
    "plt.figure(figsize=(6, 5))\n",
    "sns.heatmap(cm, annot=True, fmt='d', cmap='Blues', \n",
    "            xticklabels=['Negative', 'Positive'], \n",
    "            yticklabels=['Negative', 'Positive'])\n",
    "plt.xlabel('Predicted Label')\n",
    "plt.ylabel('True Label')\n",
    "plt.title('Confusion Matrix')\n",
    "plt.show()"
   ]
  },
  {
   "cell_type": "code",
   "execution_count": 23,
   "id": "d38039ac",
   "metadata": {},
   "outputs": [
    {
     "name": "stdout",
     "output_type": "stream",
     "text": [
      "Review: 'This movie was absolutely fantastic! The acting was superb and the plot was gripping.'\n",
      "Predicted Sentiment: Positive\n",
      "\n",
      "Review: 'I was so bored throughout the entire film. It was a complete waste of time and money.'\n",
      "Predicted Sentiment: Negative\n",
      "\n",
      "Review: 'The film was okay, not great but not terrible either. Some parts were good.'\n",
      "Predicted Sentiment: Positive\n",
      "\n"
     ]
    }
   ],
   "source": [
    "def predict_sentiment(text):\n",
    "    \"\"\"\n",
    "    Takes a raw text string and predicts its sentiment using the trained model.\n",
    "    \"\"\"\n",
    "    # 1. Preprocess the text using the same function from Cell 2\n",
    "    cleaned_text = preprocess_text(text)\n",
    "    \n",
    "    # 2. Vectorize the text using the SAME fitted TF-IDF vectorizer from Cell 5\n",
    "    vectorized_text = tfidf.transform([cleaned_text])\n",
    "    \n",
    "    # 3. Predict using the trained model from Cell 6\n",
    "    prediction = model.predict(vectorized_text)\n",
    "    \n",
    "    # 4. Return the human-readable result\n",
    "    return 'Positive' if prediction[0] == 1 else 'Negative'\n",
    "\n",
    "# --- Test Cases ---\n",
    "review_1 = \"This movie was absolutely fantastic! The acting was superb and the plot was gripping.\"\n",
    "review_2 = \"I was so bored throughout the entire film. It was a complete waste of time and money.\"\n",
    "review_3 = \"The film was okay, not great but not terrible either. Some parts were good.\"\n",
    "\n",
    "print(f\"Review: '{review_1}'\\nPredicted Sentiment: {predict_sentiment(review_1)}\\n\")\n",
    "print(f\"Review: '{review_2}'\\nPredicted Sentiment: {predict_sentiment(review_2)}\\n\")\n",
    "print(f\"Review: '{review_3}'\\nPredicted Sentiment: {predict_sentiment(review_3)}\\n\")"
   ]
  }
 ],
 "metadata": {
  "kernelspec": {
   "display_name": "3.11.13",
   "language": "python",
   "name": "python3"
  },
  "language_info": {
   "codemirror_mode": {
    "name": "ipython",
    "version": 3
   },
   "file_extension": ".py",
   "mimetype": "text/x-python",
   "name": "python",
   "nbconvert_exporter": "python",
   "pygments_lexer": "ipython3",
   "version": "3.11.13"
  }
 },
 "nbformat": 4,
 "nbformat_minor": 5
}
